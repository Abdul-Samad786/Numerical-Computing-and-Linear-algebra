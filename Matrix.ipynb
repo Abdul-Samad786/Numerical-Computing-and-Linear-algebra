{
 "cells": [
  {
   "cell_type": "code",
   "execution_count": 159,
   "id": "fd45ab80-0e24-4240-ad4b-1ca0fb2fafe9",
   "metadata": {},
   "outputs": [],
   "source": [
    "import numpy as np"
   ]
  },
  {
   "cell_type": "code",
   "execution_count": 135,
   "id": "a2532bee-3ea5-46f3-8198-4c52b5a6e752",
   "metadata": {},
   "outputs": [],
   "source": [
    "#Dense Matrix\n",
    "class Matrix:\n",
    "    def __init__(self, dimension1, dimension2, fill):\n",
    "        self.rows = dimension1\n",
    "        self.columns = dimension2\n",
    "        self.M = [[fill] * self.columns for i in range(self.rows)]\n",
    "\n",
    "    def __str__(self):\n",
    "        result=''\n",
    "        for i in range(self.rows):\n",
    "            for j in range(self.columns):\n",
    "                result+=str(self.M[i][j])+\"\\t\"\n",
    "            result+=\"\\n\"\n",
    "        return result\n",
    "\n"
   ]
  },
  {
   "cell_type": "code",
   "execution_count": 142,
   "id": "f82fbf24-0f9f-4985-97ea-ebe54e71a750",
   "metadata": {},
   "outputs": [],
   "source": [
    "m=Matrix(10,15,3.0)"
   ]
  },
  {
   "cell_type": "code",
   "execution_count": 143,
   "id": "602f8d23-8f19-4fe9-ad33-402bea1204e0",
   "metadata": {},
   "outputs": [],
   "source": [
    "#"
   ]
  },
  {
   "cell_type": "code",
   "execution_count": 144,
   "id": "2279219d-59c0-4e1d-86b6-fa06694db0ac",
   "metadata": {},
   "outputs": [
    {
     "data": {
      "text/plain": [
       "[[3.0, 3.0, 3.0, 3.0, 3.0, 3.0, 3.0, 3.0, 3.0, 3.0, 3.0, 3.0, 3.0, 3.0, 3.0],\n",
       " [3.0, 3.0, 3.0, 3.0, 3.0, 3.0, 3.0, 3.0, 3.0, 3.0, 3.0, 3.0, 3.0, 3.0, 3.0],\n",
       " [3.0, 3.0, 3.0, 3.0, 3.0, 3.0, 3.0, 3.0, 3.0, 3.0, 3.0, 3.0, 3.0, 3.0, 3.0],\n",
       " [3.0, 3.0, 3.0, 3.0, 3.0, 3.0, 3.0, 3.0, 3.0, 3.0, 3.0, 3.0, 3.0, 3.0, 3.0],\n",
       " [3.0, 3.0, 3.0, 3.0, 3.0, 3.0, 3.0, 3.0, 3.0, 3.0, 3.0, 3.0, 3.0, 3.0, 3.0],\n",
       " [3.0, 3.0, 3.0, 3.0, 3.0, 3.0, 3.0, 3.0, 3.0, 3.0, 3.0, 3.0, 3.0, 3.0, 3.0],\n",
       " [3.0, 3.0, 3.0, 3.0, 3.0, 3.0, 3.0, 3.0, 3.0, 3.0, 3.0, 3.0, 3.0, 3.0, 3.0],\n",
       " [3.0, 3.0, 3.0, 3.0, 3.0, 3.0, 3.0, 3.0, 3.0, 3.0, 3.0, 3.0, 3.0, 3.0, 3.0],\n",
       " [3.0, 3.0, 3.0, 3.0, 3.0, 3.0, 3.0, 3.0, 3.0, 3.0, 3.0, 3.0, 3.0, 3.0, 3.0],\n",
       " [3.0, 3.0, 3.0, 3.0, 3.0, 3.0, 3.0, 3.0, 3.0, 3.0, 3.0, 3.0, 3.0, 3.0, 3.0]]"
      ]
     },
     "execution_count": 144,
     "metadata": {},
     "output_type": "execute_result"
    }
   ],
   "source": [
    "m.M"
   ]
  },
  {
   "cell_type": "code",
   "execution_count": 139,
   "id": "38ebf360-9067-4625-b544-262a57ef3661",
   "metadata": {},
   "outputs": [
    {
     "name": "stdout",
     "output_type": "stream",
     "text": [
      "4\t4\t4\t4\t4\t\n",
      "4\t4\t4\t4\t4\t\n",
      "4\t4\t4\t4\t4\t\n",
      "4\t4\t4\t4\t4\t\n",
      "4\t4\t4\t4\t4\t\n",
      "\n"
     ]
    }
   ],
   "source": [
    "print(m)"
   ]
  },
  {
   "cell_type": "code",
   "execution_count": 150,
   "id": "d62356af-f5d8-4887-9c7d-03aabcab5553",
   "metadata": {},
   "outputs": [
    {
     "name": "stdout",
     "output_type": "stream",
     "text": [
      "CPU times: total: 406 ms\n",
      "Wall time: 487 ms\n",
      "The time complexity on making that matrix is: "
     ]
    },
    {
     "name": "stderr",
     "output_type": "stream",
     "text": [
      "IOPub data rate exceeded.\n",
      "The Jupyter server will temporarily stop sending output\n",
      "to the client in order to avoid crashing it.\n",
      "To change this limit, set the config variable\n",
      "`--ServerApp.iopub_data_rate_limit`.\n",
      "\n",
      "Current values:\n",
      "ServerApp.iopub_data_rate_limit=1000000.0 (bytes/sec)\n",
      "ServerApp.rate_limit_window=3.0 (secs)\n",
      "\n"
     ]
    }
   ],
   "source": [
    "%time n=Matrix(5000,5000,5)"
   ]
  },
  {
   "cell_type": "code",
   "execution_count": 160,
   "id": "080dc875-b6db-4ac2-8eeb-bee45a135dce",
   "metadata": {},
   "outputs": [
    {
     "data": {
      "text/plain": [
       "(10, 15)"
      ]
     },
     "execution_count": 160,
     "metadata": {},
     "output_type": "execute_result"
    }
   ],
   "source": [
    "np.shape(m.M)"
   ]
  },
  {
   "cell_type": "code",
   "execution_count": 163,
   "id": "a0e48a6e-88cc-4f7d-a58b-564187fa3364",
   "metadata": {},
   "outputs": [],
   "source": [
    "a=np.arange(1,20,2)"
   ]
  },
  {
   "cell_type": "code",
   "execution_count": 165,
   "id": "8195befa-354b-46f6-9a3d-0553b9d5a1ff",
   "metadata": {},
   "outputs": [
    {
     "data": {
      "text/plain": [
       "(10,)"
      ]
     },
     "execution_count": 165,
     "metadata": {},
     "output_type": "execute_result"
    }
   ],
   "source": [
    "a.shape"
   ]
  },
  {
   "cell_type": "code",
   "execution_count": 166,
   "id": "3dce6084-8aa6-4fdd-912c-0cc33775f27e",
   "metadata": {},
   "outputs": [
    {
     "data": {
      "text/plain": [
       "array([ 1,  3,  5,  7,  9, 11, 13, 15, 17, 19])"
      ]
     },
     "execution_count": 166,
     "metadata": {},
     "output_type": "execute_result"
    }
   ],
   "source": [
    "a"
   ]
  },
  {
   "cell_type": "code",
   "execution_count": 167,
   "id": "3937a66e-c590-4b6e-97ee-78122ea78bb2",
   "metadata": {},
   "outputs": [],
   "source": [
    "matrix=Matrix(5,6,0.0)"
   ]
  },
  {
   "cell_type": "code",
   "execution_count": 169,
   "id": "5091fb98-59ea-41ca-8a53-417d352e2567",
   "metadata": {},
   "outputs": [
    {
     "name": "stdout",
     "output_type": "stream",
     "text": [
      "0.0\t0.0\t0.0\t0.0\t0.0\t0.0\t\n",
      "0.0\t0.0\t0.0\t0.0\t0.0\t0.0\t\n",
      "0.0\t0.0\t0.0\t0.0\t0.0\t0.0\t\n",
      "0.0\t0.0\t0.0\t0.0\t0.0\t0.0\t\n",
      "0.0\t0.0\t0.0\t0.0\t0.0\t0.0\t\n",
      "\n"
     ]
    }
   ],
   "source": [
    "print(matrix)"
   ]
  },
  {
   "cell_type": "code",
   "execution_count": 184,
   "id": "63c85b83-ef0e-47c1-9ca2-ad2a182440e9",
   "metadata": {},
   "outputs": [
    {
     "data": {
      "text/plain": [
       "array([[ 0,  2,  4],\n",
       "       [ 6,  8, 10],\n",
       "       [12, 14, 16],\n",
       "       [18, 20, 22],\n",
       "       [24, 26, 28]])"
      ]
     },
     "execution_count": 184,
     "metadata": {},
     "output_type": "execute_result"
    }
   ],
   "source": [
    "np.arange(0,30,2).reshape(5,3)"
   ]
  },
  {
   "cell_type": "code",
   "execution_count": 11,
   "id": "0c7f3d23-7b0e-4e3a-948f-ff5ea09a3d89",
   "metadata": {},
   "outputs": [],
   "source": [
    "#Sparse Matrix\n",
    "class Spark_Matrix:\n",
    "    def __init__(self,dimen):\n",
    "        self.rows=dimen[0]\n",
    "        self.cols=dimen[1]\n",
    "        self.vals={}\n",
    "    def set(self,i,j,value):\n",
    "        self.vals[(i,j)]=value\n",
    "    def get (self,tuple):\n",
    "        if tuple in self.vals:\n",
    "            return self.vals[tuple]\n",
    "        return 0"
   ]
  },
  {
   "cell_type": "code",
   "execution_count": 12,
   "id": "679a247c-ef0b-4987-830c-2ef81fac81f9",
   "metadata": {},
   "outputs": [],
   "source": [
    "S_matrix=Spark_Matrix((4,5))"
   ]
  },
  {
   "cell_type": "code",
   "execution_count": 13,
   "id": "48b35bd0-c7ad-4e18-9b9d-1b2f89044e13",
   "metadata": {},
   "outputs": [],
   "source": [
    "S_matrix.set(2,3,23)"
   ]
  },
  {
   "cell_type": "code",
   "execution_count": 14,
   "id": "f460a8bb-caaa-44c4-9357-ec3b200e3060",
   "metadata": {},
   "outputs": [
    {
     "data": {
      "text/plain": [
       "23"
      ]
     },
     "execution_count": 14,
     "metadata": {},
     "output_type": "execute_result"
    }
   ],
   "source": [
    "S_matrix.get((2,3))"
   ]
  },
  {
   "cell_type": "code",
   "execution_count": null,
   "id": "021dde03-2876-48a9-8099-6fe73178f55e",
   "metadata": {},
   "outputs": [],
   "source": []
  }
 ],
 "metadata": {
  "kernelspec": {
   "display_name": "Python 3 (ipykernel)",
   "language": "python",
   "name": "python3"
  },
  "language_info": {
   "codemirror_mode": {
    "name": "ipython",
    "version": 3
   },
   "file_extension": ".py",
   "mimetype": "text/x-python",
   "name": "python",
   "nbconvert_exporter": "python",
   "pygments_lexer": "ipython3",
   "version": "3.12.4"
  }
 },
 "nbformat": 4,
 "nbformat_minor": 5
}
