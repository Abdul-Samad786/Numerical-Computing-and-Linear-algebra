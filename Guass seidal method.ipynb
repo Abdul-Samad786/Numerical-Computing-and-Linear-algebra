{
 "cells": [
  {
   "cell_type": "code",
   "execution_count": 2,
   "id": "76096125-810e-47b4-91b9-5f6bffb7da6b",
   "metadata": {},
   "outputs": [],
   "source": [
    "import numpy as np"
   ]
  },
  {
   "cell_type": "code",
   "execution_count": 5,
   "id": "5175677e-086f-4ea6-874b-8cc261671a54",
   "metadata": {},
   "outputs": [],
   "source": [
    "matrix=[[4,1,2],[3,5,1],[1,1,3]]\n",
    "#  4   1  2      4\n",
    "#  3   5  1  =   7\n",
    "#  1   1  3      3 \n",
    "​"
   ]
  },
  {
   "cell_type": "code",
   "execution_count": 24,
   "id": "c5ed88e8-9746-4b54-b242-5756f9df2eb8",
   "metadata": {},
   "outputs": [],
   "source": [
    "diag=np.diag(np.abs(matrix))"
   ]
  },
  {
   "cell_type": "code",
   "execution_count": 25,
   "id": "ee9853a3-8c7d-42e5-8545-dee29cc01b82",
   "metadata": {},
   "outputs": [],
   "source": [
    "off_diag_sum=np.sum(matrix,axis=1)"
   ]
  },
  {
   "cell_type": "code",
   "execution_count": 26,
   "id": "02452308-0758-4afe-9c26-b25961a59927",
   "metadata": {},
   "outputs": [
    {
     "data": {
      "text/plain": [
       "array([7, 9, 5])"
      ]
     },
     "execution_count": 26,
     "metadata": {},
     "output_type": "execute_result"
    }
   ],
   "source": [
    "off_diag_sum"
   ]
  },
  {
   "cell_type": "code",
   "execution_count": 27,
   "id": "45a5804f-c027-4132-bd4f-71805f82c1c3",
   "metadata": {},
   "outputs": [],
   "source": [
    "off_diag=np.sum(matrix,axis=1)-diag"
   ]
  },
  {
   "cell_type": "code",
   "execution_count": 28,
   "id": "05ab5a83-028d-45aa-aa7e-ac452bd9f616",
   "metadata": {},
   "outputs": [
    {
     "data": {
      "text/plain": [
       "array([3, 4, 2])"
      ]
     },
     "execution_count": 28,
     "metadata": {},
     "output_type": "execute_result"
    }
   ],
   "source": [
    "off_diag"
   ]
  },
  {
   "cell_type": "code",
   "execution_count": 31,
   "id": "2cdfea64-bd02-442c-9237-ccb4c57776bc",
   "metadata": {},
   "outputs": [
    {
     "name": "stdout",
     "output_type": "stream",
     "text": [
      "The diagnal is dominanat\n"
     ]
    }
   ],
   "source": [
    "if np.all(diag>off_diag): #Cheching Diagnal is Dominant or note\n",
    "    print(\"The diagnal is dominanat\")\n",
    "else:\n",
    "    print(\"The diagnol is not dominant\")"
   ]
  },
  {
   "cell_type": "code",
   "execution_count": 32,
   "id": "d9c92e3c-8a19-4b08-98cc-d92928068d16",
   "metadata": {},
   "outputs": [
    {
     "data": {
      "text/plain": [
       "[[4, 1, 2], [3, 5, 1], [1, 1, 3]]"
      ]
     },
     "execution_count": 32,
     "metadata": {},
     "output_type": "execute_result"
    }
   ],
   "source": [
    "matrix"
   ]
  },
  {
   "cell_type": "code",
   "execution_count": 59,
   "id": "25da178d-450c-4401-ba89-98d0be579f7a",
   "metadata": {},
   "outputs": [
    {
     "name": "stdout",
     "output_type": "stream",
     "text": [
      "0   1.0000   0.8000   0.4000 \n",
      "1   0.6000   0.9600   0.4800 \n",
      "2   0.5200   0.9920   0.4960 \n",
      "3   0.5040   0.9984   0.4992 \n",
      "4   0.5008   0.9997   0.4998 \n",
      "Coverage\n"
     ]
    }
   ],
   "source": [
    "x1=0  \n",
    "x2=0     #We will start with some guess.Here ()we use 0 as guess\n",
    "x3=0\n",
    "x_old=np.array([x1,x2,x3])\n",
    "elipson=0.001\n",
    "coverage=False\n",
    "for k in range(50):\n",
    "    x1= (4-x2-2*x3)/4\n",
    "    x2=(7-3*x1-x3)/5\n",
    "    x3=(3-x1-x2)/3\n",
    "    x=np.array([x1,x2,x3])\n",
    "    diff=np.sqrt(np.dot(x-x_old,x-x_old))\n",
    "    if(diff<elipson):\n",
    "        print(\"Coverage\")\n",
    "        Coverage=True\n",
    "        break\n",
    "    else:\n",
    "        print(\"%d   %.4f   %.4f   %.4f \"% (k,x1,x2,x3))\n",
    "        x_old=x"
   ]
  },
  {
   "cell_type": "code",
   "execution_count": 60,
   "id": "65da38d9-9212-4004-9710-1c8fcda343d7",
   "metadata": {},
   "outputs": [
    {
     "data": {
      "text/plain": [
       "array([0.5008 , 0.99968, 0.49984])"
      ]
     },
     "execution_count": 60,
     "metadata": {},
     "output_type": "execute_result"
    }
   ],
   "source": [
    "x_old"
   ]
  },
  {
   "cell_type": "code",
   "execution_count": null,
   "id": "ad63287d-5f56-4d9e-b1c8-caa3b988b8cb",
   "metadata": {},
   "outputs": [],
   "source": []
  }
 ],
 "metadata": {
  "kernelspec": {
   "display_name": "Python 3 (ipykernel)",
   "language": "python",
   "name": "python3"
  },
  "language_info": {
   "codemirror_mode": {
    "name": "ipython",
    "version": 3
   },
   "file_extension": ".py",
   "mimetype": "text/x-python",
   "name": "python",
   "nbconvert_exporter": "python",
   "pygments_lexer": "ipython3",
   "version": "3.12.4"
  }
 },
 "nbformat": 4,
 "nbformat_minor": 5
}
